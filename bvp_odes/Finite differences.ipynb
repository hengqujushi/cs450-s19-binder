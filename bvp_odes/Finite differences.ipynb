{
  "cells": [
    {
      "cell_type": "markdown",
      "metadata": {},
      "source": [
        "# Finite Differences for Boundary Value Problems"
      ]
    },
    {
      "cell_type": "code",
      "execution_count": 1,
      "metadata": {
        "collapsed": false
      },
      "outputs": [],
      "source": [
        "import numpy as np\n",
        "import matplotlib.pyplot as pt\n",
        "\n",
        "import scipy.sparse as sps"
      ]
    },
    {
      "cell_type": "markdown",
      "metadata": {},
      "source": [
        "We'll solve\n",
        "\n",
        "$u''+1000(1+x^2)u=0$ on $(-1,1)$\n",
        "\n",
        "with $u(-1)=3$ and $u(1)=-3$."
      ]
    },
    {
      "cell_type": "code",
      "execution_count": 2,
      "metadata": {
        "collapsed": false
      },
      "outputs": [],
      "source": [
        "#n = 9\n",
        "n = 200\n",
        "\n",
        "mesh = np.linspace(-1, 1, n)\n",
        "h = mesh[1] - mesh[0]"
      ]
    },
    {
      "cell_type": "code",
      "execution_count": 3,
      "metadata": {
        "collapsed": false
      },
      "outputs": [],
      "source": [
        "A = sps.diags(\n",
        "    [1,-2,1],\n",
        "    offsets=[-1,0,1], \n",
        "    shape=(n, n))\n",
        "\n",
        "if n < 10:\n",
        "    print(A.todense())"
      ]
    },
    {
      "cell_type": "markdown",
      "metadata": {},
      "source": [
        "Create `second_deriv` as a matrix to apply the second derivative. Can only do that for the interior points!\n",
        "\n",
        "* change `shape` and offsets\n",
        "* Take `h` into account"
      ]
    },
    {
      "cell_type": "code",
      "execution_count": 4,
      "metadata": {
        "collapsed": false
      },
      "outputs": [],
      "source": [
        "second_deriv = sps.diags(\n",
        "    [1,-2,1],\n",
        "    offsets=np.array([-1,0,1])+1,\n",
        "    shape=(n-2, n))/h**2\n",
        "\n",
        "\n",
        "if n < 10:\n",
        "    print(second_deriv.todense())"
      ]
    },
    {
      "cell_type": "code",
      "execution_count": 5,
      "metadata": {
        "collapsed": false
      },
      "outputs": [],
      "source": [
        "factor = sps.diags(\n",
        "    [1000*(1 + mesh[1:]**2)],\n",
        "    offsets=[1],\n",
        "    shape=(n-2, n))\n",
        "\n",
        "if n < 10:\n",
        "    print(mesh[1:-1])\n",
        "    print()\n",
        "    print(factor.todense())"
      ]
    },
    {
      "cell_type": "code",
      "execution_count": 6,
      "metadata": {
        "collapsed": false
      },
      "outputs": [],
      "source": [
        "A_int = second_deriv+factor\n",
        "\n",
        "if n < 10:\n",
        "    print(A_int.todense())"
      ]
    },
    {
      "cell_type": "code",
      "execution_count": 7,
      "metadata": {
        "collapsed": false
      },
      "outputs": [],
      "source": [
        "A = sps.vstack([\n",
        "    sps.coo_matrix(([1], ([0],[0])), shape=(1, n)),\n",
        "    A_int,\n",
        "    sps.coo_matrix(([1], ([0],[n-1])), shape=(1, n)),\n",
        "    ])\n",
        "A = sps.csr_matrix(A)\n",
        "\n",
        "if n < 10:\n",
        "    print(A.todense())"
      ]
    },
    {
      "cell_type": "markdown",
      "metadata": {},
      "source": [
        "Next, assemble the right-hand side as `rhs`:\n",
        "\n",
        "Pay special attention to the boundary conditions. What entries of `rhs` do they correspond to?"
      ]
    },
    {
      "cell_type": "code",
      "execution_count": 8,
      "metadata": {
        "collapsed": false
      },
      "outputs": [],
      "source": [
        "rhs = np.zeros(n)\n",
        "rhs[0] = 3\n",
        "rhs[-1] = -3"
      ]
    },
    {
      "cell_type": "markdown",
      "metadata": {},
      "source": [
        "To wrap up, solve and plot:"
      ]
    },
    {
      "cell_type": "code",
      "execution_count": 9,
      "metadata": {
        "collapsed": false
      },
      "outputs": [],
      "source": [
        "import scipy.sparse.linalg as sla\n",
        "\n",
        "sol = sla.spsolve(A, rhs)"
      ]
    },
    {
      "cell_type": "code",
      "execution_count": 10,
      "metadata": {
        "collapsed": false
      },
      "outputs": [
        {
          "name": "stderr",
          "output_type": "stream",
          "text": [
            "/usr/local/lib/python3.5/dist-packages/IPython/core/formatters.py:92: DeprecationWarning: DisplayFormatter._ipython_display_formatter_default is deprecated: use @default decorator instead.\n",
            "  def _ipython_display_formatter_default(self):\n",
            "/usr/local/lib/python3.5/dist-packages/IPython/core/formatters.py:669: DeprecationWarning: PlainTextFormatter._singleton_printers_default is deprecated: use @default decorator instead.\n",
            "  def _singleton_printers_default(self):\n"
          ]
        },
        {
          "data": {
            "text/plain": [
              "[<matplotlib.lines.Line2D at 0x7f2c40aafa20>]"
            ]
          },
          "execution_count": 10,
          "metadata": {},
          "output_type": "execute_result"
        },
        {
          "data": {
            "image/png": "[encoded data removed]",
            "text/plain": [
              "<matplotlib.figure.Figure at 0x7f2c4a6b44a8>"
            ]
          },
          "metadata": {},
          "output_type": "display_data"
        }
      ],
      "source": [
        "pt.plot(mesh, sol)"
      ]
    },
    {
      "cell_type": "code",
      "execution_count": 136,
      "metadata": {
        "collapsed": false
      },
      "outputs": [],
      "source": []
    }
  ],
  "metadata": {
    "kernelspec": {
      "display_name": "Python 3",
      "language": "python",
      "name": "python3"
    },
    "language_info": {
      "codemirror_mode": {
        "name": "ipython",
        "version": 3
      },
      "file_extension": ".py",
      "mimetype": "text/x-python",
      "name": "python",
      "nbconvert_exporter": "python",
      "pygments_lexer": "ipython3",
      "version": "3.5.1+"
    }
  },
  "nbformat": 4,
  "nbformat_minor": 0
}