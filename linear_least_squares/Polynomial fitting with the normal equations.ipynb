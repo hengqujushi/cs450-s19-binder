{
  "cells": [
    {
      "cell_type": "markdown",
      "metadata": {},
      "source": [
        "# Polynomial fitting with the normal equations"
      ]
    },
    {
      "cell_type": "code",
      "execution_count": 3,
      "metadata": {
        "collapsed": false
      },
      "outputs": [],
      "source": [
        "import numpy as np\n",
        "import numpy.linalg as la\n",
        "import matplotlib.pyplot as pt"
      ]
    },
    {
      "cell_type": "markdown",
      "metadata": {},
      "source": [
        "In this demo, we will produce data from a simple parabola as a \"model\" and try to recover the \"unknown\" parameters $\\alpha$, $\\beta$, and $\\gamma$ using least squares."
      ]
    },
    {
      "cell_type": "code",
      "execution_count": 6,
      "metadata": {
        "collapsed": false
      },
      "outputs": [
        {
          "data": {
            "text/plain": [
              "[<matplotlib.lines.Line2D at 0x7f6900e06748>]"
            ]
          },
          "execution_count": 6,
          "metadata": {},
          "output_type": "execute_result"
        },
        {
          "data": {
            "image/png": "[encoded data removed]",
            "text/plain": [
              "<matplotlib.figure.Figure at 0x7f6900e1aba8>"
            ]
          },
          "metadata": {},
          "output_type": "display_data"
        }
      ],
      "source": [
        "alpha = 3\n",
        "beta = 2\n",
        "gamma = 2\n",
        "\n",
        "def f(x):\n",
        "    return alpha*x**2 + beta*x + gamma\n",
        "\n",
        "plot_grid = np.linspace(-3, 3, 100)\n",
        "\n",
        "pt.plot(plot_grid, f(plot_grid))"
      ]
    },
    {
      "cell_type": "code",
      "execution_count": 7,
      "metadata": {
        "collapsed": false
      },
      "outputs": [
        {
          "data": {
            "text/plain": [
              "[<matplotlib.lines.Line2D at 0x7f6900de0ac8>]"
            ]
          },
          "execution_count": 7,
          "metadata": {},
          "output_type": "execute_result"
        },
        {
          "data": {
            "image/png": "[encoded data removed]",
            "text/plain": [
              "<matplotlib.figure.Figure at 0x7f6900dda7b8>"
            ]
          },
          "metadata": {},
          "output_type": "display_data"
        }
      ],
      "source": [
        "npts = 5\n",
        "\n",
        "np.random.seed(22)\n",
        "points = np.linspace(-2, 2, npts) + np.random.randn(npts)\n",
        "values = f(points) + 0.3*np.random.randn(npts)*f(points)\n",
        "\n",
        "pt.plot(plot_grid, f(plot_grid))\n",
        "pt.plot(points, values, \"o\")"
      ]
    },
    {
      "cell_type": "markdown",
      "metadata": {},
      "source": [
        "Now build the Vandermonde matrix:"
      ]
    },
    {
      "cell_type": "code",
      "execution_count": 9,
      "metadata": {
        "collapsed": false
      },
      "outputs": [
        {
          "name": "stdout",
          "output_type": "stream",
          "text": [
            "[[ 1.         -2.09194992  4.37625447]\n",
            " [ 1.         -2.46335065  6.06809644]\n",
            " [ 1.          1.08179168  1.17027324]\n",
            " [ 1.          0.76067483  0.5786262 ]\n",
            " [ 1.          1.50887086  2.27669128]]\n"
          ]
        }
      ],
      "source": [
        "A = np.array([\n",
        "    np.ones(npts),\n",
        "    points,\n",
        "    points**2\n",
        "    ]).T\n",
        "print(A)"
      ]
    },
    {
      "cell_type": "markdown",
      "metadata": {},
      "source": [
        "And solve for `x` using the normal equations:"
      ]
    },
    {
      "cell_type": "code",
      "execution_count": 10,
      "metadata": {
        "collapsed": false
      },
      "outputs": [
        {
          "data": {
            "text/plain": [
              "array([ 0.13178048,  1.84869187,  3.45132033])"
            ]
          },
          "execution_count": 10,
          "metadata": {},
          "output_type": "execute_result"
        }
      ],
      "source": [
        "x = la.solve(A.T@A, A.T@values)\n",
        "x"
      ]
    },
    {
      "cell_type": "markdown",
      "metadata": {},
      "source": [
        "Lastly, pick apart `x` into `alpha_c`, `beta_c`, and `gamma_c`:"
      ]
    },
    {
      "cell_type": "code",
      "execution_count": 11,
      "metadata": {
        "collapsed": true
      },
      "outputs": [],
      "source": [
        "gamma_c, beta_c, alpha_c = x"
      ]
    },
    {
      "cell_type": "code",
      "execution_count": 14,
      "metadata": {
        "collapsed": false
      },
      "outputs": [
        {
          "name": "stdout",
          "output_type": "stream",
          "text": [
            "3 3.45132033448\n",
            "2 1.84869187248\n",
            "2 0.131780484241\n"
          ]
        }
      ],
      "source": [
        "print(alpha, alpha_c)\n",
        "print(beta, beta_c)\n",
        "print(gamma, gamma_c)"
      ]
    },
    {
      "cell_type": "code",
      "execution_count": 13,
      "metadata": {
        "collapsed": false
      },
      "outputs": [
        {
          "data": {
            "text/plain": [
              "<matplotlib.legend.Legend at 0x7f6900cdfb70>"
            ]
          },
          "execution_count": 13,
          "metadata": {},
          "output_type": "execute_result"
        },
        {
          "data": {
            "image/png": "[encoded data removed]",
            "text/plain": [
              "<matplotlib.figure.Figure at 0x7f6900db4780>"
            ]
          },
          "metadata": {},
          "output_type": "display_data"
        }
      ],
      "source": [
        "def f_c(x):\n",
        "    return alpha_c*x**2 + beta_c*x + gamma_c\n",
        "\n",
        "pt.plot(plot_grid, f(plot_grid), label=\"true\")\n",
        "pt.plot(points, values, \"o\", label=\"data\")\n",
        "pt.plot(plot_grid, f_c(plot_grid), label=\"found\")\n",
        "pt.legend()"
      ]
    },
    {
      "cell_type": "markdown",
      "metadata": {},
      "source": [
        "<!--\n",
        "gamma_c, beta_c, alpha_c = x\n",
        "-->\n",
        "(Edit this cell for solution.)"
      ]
    }
  ],
  "metadata": {
    "kernelspec": {
      "display_name": "Python 3",
      "language": "python",
      "name": "python3"
    },
    "language_info": {
      "codemirror_mode": {
        "name": "ipython",
        "version": 3
      },
      "file_extension": ".py",
      "mimetype": "text/x-python",
      "name": "python",
      "nbconvert_exporter": "python",
      "pygments_lexer": "ipython3",
      "version": "3.5.1+"
    }
  },
  "nbformat": 4,
  "nbformat_minor": 0
}