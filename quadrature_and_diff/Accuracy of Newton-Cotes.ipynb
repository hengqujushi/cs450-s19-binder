{
  "cells": [
    {
      "cell_type": "markdown",
      "metadata": {},
      "source": [
        "# Accuracy of Newton-Cotes"
      ]
    },
    {
      "cell_type": "code",
      "execution_count": 21,
      "metadata": {
        "collapsed": false
      },
      "outputs": [],
      "source": [
        "import numpy as np\n",
        "import numpy.linalg as la\n",
        "import matplotlib.pyplot as pt"
      ]
    },
    {
      "cell_type": "markdown",
      "metadata": {},
      "source": [
        "A function to make Vandermonde matrices:\n",
        "    \n",
        "(Note that the ordering of this matrix matches the convention in our class but *disagrees* with `np.vander`.)"
      ]
    },
    {
      "cell_type": "code",
      "execution_count": 34,
      "metadata": {
        "collapsed": true
      },
      "outputs": [],
      "source": [
        "def vander(nodes, ncolumns=None):\n",
        "    if ncolumns is None:\n",
        "        ncolumns = len(nodes)\n",
        "    result = np.empty((len(nodes), ncolumns))\n",
        "    for i in range(ncolumns):\n",
        "        result[:, i] = nodes**i\n",
        "    return result"
      ]
    },
    {
      "cell_type": "markdown",
      "metadata": {},
      "source": [
        "Fix a set of nodes:"
      ]
    },
    {
      "cell_type": "code",
      "execution_count": 129,
      "metadata": {
        "collapsed": true
      },
      "outputs": [],
      "source": [
        "# nodes = [0.5] # Midpoint\n",
        "# nodes = [0]\n",
        "#nodes = [0, 1] # Trapezoidal\n",
        "nodes = [0, 0.5, 1] # Simpson's\n",
        "#nodes = [0, 1/3, 1]"
      ]
    },
    {
      "cell_type": "markdown",
      "metadata": {},
      "source": [
        "Find the weights for the Newton-Cotes rule for the given nodes on $[0,1]$:"
      ]
    },
    {
      "cell_type": "code",
      "execution_count": 130,
      "metadata": {
        "collapsed": false
      },
      "outputs": [
        {
          "name": "stdout",
          "output_type": "stream",
          "text": [
            "[ 0.16666667  0.66666667  0.16666667]\n"
          ]
        }
      ],
      "source": [
        "(a, b) = (0, 1)\n",
        "nodes = np.array(nodes)\n",
        "n = len(nodes)\n",
        "\n",
        "degs = np.arange(n)\n",
        "rhs = 1/(degs+1)*(b**(degs+1 - a**(degs+1)))\n",
        "weights = la.solve(vander(nodes).T, rhs)\n",
        "print(weights)"
      ]
    },
    {
      "cell_type": "markdown",
      "metadata": {},
      "source": [
        "Here is a function and its definite integral from $0$ to $x$:\n",
        "\n",
        "$$\\text{int_f}(x)=\\int_0^x f(\\xi)d\\xi$$"
      ]
    },
    {
      "cell_type": "code",
      "execution_count": 131,
      "metadata": {
        "collapsed": false
      },
      "outputs": [],
      "source": [
        "fdeg = 9\n",
        "def f(x):\n",
        "    return sum((-x)**i for i in range(fdeg + 1))\n",
        "def int_f(x):\n",
        "    return sum(\n",
        "        (-1)**i*1/(i+1)*(\n",
        "            (x)**(i+1)-0**(i+1)\n",
        "            )\n",
        "        for i in range(fdeg + 1))\n"
      ]
    },
    {
      "cell_type": "markdown",
      "metadata": {},
      "source": [
        "Plotted:"
      ]
    },
    {
      "cell_type": "code",
      "execution_count": 132,
      "metadata": {
        "collapsed": false
      },
      "outputs": [
        {
          "data": {
            "text/plain": [
              "<matplotlib.legend.Legend at 0x7fe907aaa978>"
            ]
          },
          "execution_count": 132,
          "metadata": {},
          "output_type": "execute_result"
        },
        {
          "data": {
            "image/png": "[encoded data removed]",
            "text/plain": [
              "<matplotlib.figure.Figure at 0x7fe907b69c88>"
            ]
          },
          "metadata": {},
          "output_type": "display_data"
        }
      ],
      "source": [
        "plot_x = np.linspace(0, 1, 200)\n",
        "\n",
        "pt.plot(plot_x, f(plot_x), label=\"f\")\n",
        "pt.fill_between(plot_x, 0*plot_x, f(plot_x),alpha=0.3)\n",
        "pt.plot(plot_x, int_f(plot_x), label=\"$\\int f$\")\n",
        "pt.grid()\n",
        "pt.legend(loc=\"best\")"
      ]
    },
    {
      "cell_type": "markdown",
      "metadata": {},
      "source": [
        "This here plots the function, the interpolant, and the area under the interpolant:"
      ]
    },
    {
      "cell_type": "code",
      "execution_count": 133,
      "metadata": {
        "collapsed": false
      },
      "outputs": [
        {
          "data": {
            "text/plain": [
              "<matplotlib.legend.Legend at 0x7fe907a37d30>"
            ]
          },
          "execution_count": 133,
          "metadata": {},
          "output_type": "execute_result"
        },
        {
          "data": {
            "image/png": "[encoded data removed]",
            "text/plain": [
              "<matplotlib.figure.Figure at 0x7fe907ad0198>"
            ]
          },
          "metadata": {},
          "output_type": "display_data"
        }
      ],
      "source": [
        "# fix nodes\n",
        "h = 1\n",
        "x = nodes * h\n",
        "\n",
        "# find interpolant\n",
        "coeffs = la.solve(vander(x), f(x))\n",
        "\n",
        "# evaluate interpolant\n",
        "plot_x = np.linspace(0, h, 200)\n",
        "interpolant = vander(plot_x, len(coeffs)) @ coeffs\n",
        "\n",
        "# plot\n",
        "pt.plot(plot_x, f(plot_x), label=\"f\")\n",
        "pt.plot(plot_x, interpolant, label=\"Interpolant\")\n",
        "pt.fill_between(plot_x, 0*plot_x, interpolant, alpha=0.3, color=\"green\")\n",
        "pt.plot(x, f(x), \"og\")\n",
        "pt.grid()\n",
        "pt.legend(loc=\"best\")"
      ]
    },
    {
      "cell_type": "markdown",
      "metadata": {},
      "source": [
        "Compute the following:\n",
        "\n",
        "*   The true integral as `true_val` (from `int_f`)\n",
        "*   The quadrature result as `quad` (using `x` and `weights` and `h`)\n",
        "*   The error as `err` (the difference of the two)\n",
        "\n",
        "    (Do not be tempted to compute a relative error--that has one order lower.)\n",
        "\n",
        "Compare the error for $h=1,0.5,0.25$. What order of accuracy do you observe?"
      ]
    },
    {
      "cell_type": "code",
      "execution_count": 134,
      "metadata": {
        "collapsed": false
      },
      "outputs": [
        {
          "name": "stdout",
          "output_type": "stream",
          "text": [
            "1 0.6456349206349207 0.610677083333 0.0349578373016\n",
            "0.5 0.4054346478174603 0.40550104777 6.6399952722e-05\n",
            "0.25 0.22314353367638967 0.223148116221 4.58254464089e-06\n",
            "0.125 0.11778303564688754 0.117783224384 1.88736665879e-07\n",
            "0.0625 0.06062462181642996 0.0606246286393 6.8228956096e-09\n"
          ]
        }
      ],
      "source": [
        "\n",
        "errors = []\n",
        "\n",
        "for h in [1, 0.5, 0.25, 0.125, 0.125*0.5]:\n",
        "    true_val = int_f(h)\n",
        "    quad = h * weights @ f(h * nodes)\n",
        "    error = abs(quad - true_val)\n",
        "    print(h, true_val, quad, error)\n",
        "    \n",
        "    errors.append(error)"
      ]
    },
    {
      "cell_type": "markdown",
      "metadata": {},
      "source": [
        "Estimate the order of accuracy:\n",
        "\n",
        "We assume that the error depends on the mesh spacings $h$ as\n",
        "$E(h)\\approx C h^p$ for some unknown power $p$.  Taking the $\\log$\n",
        "of this approximate equality reveals a linear function in $p$:\n",
        "$$\n",
        "E(h) \\approx C h^p \\quad \\iff \\quad \\log E(h) \\approx \\log(C) +\n",
        "p\\log(h).\n",
        "$$\n",
        "You can now either do a least-squares fit for $\\log C$ and $p$ from\n",
        "a few data points $(h,E(h))$ (more accurate, more robust), or you\n",
        "can use just two grid sizes $h_1$ and $h_2$, and estimate the slope:\n",
        "(less accurate, less robust)\n",
        "$$\n",
        "   p \\approx \\frac{ \\log(\\frac{E(h_2)}{E(h_1)}) } {\\log(\\frac{h_2}{h_1})}.\n",
        "$$\n",
        "This is called the *empirical order of convergence* or EOC.\n",
        "\n"
      ]
    },
    {
      "cell_type": "code",
      "execution_count": 135,
      "metadata": {
        "collapsed": false
      },
      "outputs": [
        {
          "name": "stdout",
          "output_type": "stream",
          "text": [
            "9.04021800427\n",
            "3.85696137438\n",
            "4.60170230716\n",
            "4.78984676915\n"
          ]
        }
      ],
      "source": [
        "for i in range(len(errors)-1):\n",
        "    print(np.log(errors[i+1]/errors[i])/np.log(1/2))"
      ]
    },
    {
      "cell_type": "code",
      "execution_count": null,
      "metadata": {
        "collapsed": true
      },
      "outputs": [],
      "source": []
    }
  ],
  "metadata": {
    "kernelspec": {
      "display_name": "Python 3",
      "language": "python",
      "name": "python3"
    },
    "language_info": {
      "codemirror_mode": {
        "name": "ipython",
        "version": 3
      },
      "file_extension": ".py",
      "mimetype": "text/x-python",
      "name": "python",
      "nbconvert_exporter": "python",
      "pygments_lexer": "ipython3",
      "version": "3.5.1+"
    }
  },
  "nbformat": 4,
  "nbformat_minor": 0
}