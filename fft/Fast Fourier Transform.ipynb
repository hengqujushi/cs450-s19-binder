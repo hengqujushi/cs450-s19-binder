{
  "cells": [
    {
      "cell_type": "markdown",
      "metadata": {},
      "source": [
        "<h1>Fast Fourier Transform</h1>\n",
        "\n",
        "The discrete Fourier transformation interpolates a set of values in the frequency basis given by trigonometric functions. \n",
        "\n",
        "<h2>DFT Matrix</h2>\n",
        "\n",
        "Definte the $n$th root of unity as $\\omega_{(n)} = e^{-2\\pi i/n}$ so that ${\\omega_{(n)}}^n=1$. "
      ]
    },
    {
      "cell_type": "code",
      "execution_count": 25,
      "metadata": {},
      "outputs": [
        {
          "name": "stdout",
          "output_type": "stream",
          "text": [
            "(-1-1.22464679915e-16j) (-0.5-0.866025403784j) (6.12323399574e-17-1j)\n",
            "(1+2.44929359829e-16j) (1+6.10622663544e-16j) (1+2.44929359829e-16j)\n"
          ]
        }
      ],
      "source": [
        "import numpy as np\n",
        "\n",
        "def omega(n):\n",
        "    return np.exp(-2.*np.pi*1.j/n)\n",
        "\n",
        "print(omega(2),omega(3),omega(4))\n",
        "print(omega(2)**2,omega(3)**3,omega(4)**4)"
      ]
    },
    {
      "cell_type": "markdown",
      "metadata": {},
      "source": [
        "Lets plot $\\omega_{(2)},\\omega_{(3)},\\ldots,\\omega_{(n)}$ on the complex plane, highlighting in red $\\omega_{(2)},\\omega_{(4)},\\omega_{(8)},\\ldots,\\omega_{(n)}$."
      ]
    },
    {
      "cell_type": "code",
      "execution_count": 2,
      "metadata": {},
      "outputs": [
        {
          "name": "stdout",
          "output_type": "stream",
          "text": [
            "[ -1.00000000e+00 -1.22464680e-16j  -5.00000000e-01 -8.66025404e-01j\n",
            "   6.12323400e-17 -1.00000000e+00j   3.09016994e-01 -9.51056516e-01j\n",
            "   5.00000000e-01 -8.66025404e-01j   6.23489802e-01 -7.81831482e-01j\n",
            "   7.07106781e-01 -7.07106781e-01j   7.66044443e-01 -6.42787610e-01j\n",
            "   8.09016994e-01 -5.87785252e-01j   8.41253533e-01 -5.40640817e-01j\n",
            "   8.66025404e-01 -5.00000000e-01j   8.85456026e-01 -4.64723172e-01j\n",
            "   9.00968868e-01 -4.33883739e-01j   9.13545458e-01 -4.06736643e-01j\n",
            "   9.23879533e-01 -3.82683432e-01j]\n"
          ]
        },
        {
          "data": {
            "image/png": "[encoded data removed]",
            "text/plain": [
              "<matplotlib.figure.Figure at 0x7f053f6d3ba8>"
            ]
          },
          "metadata": {},
          "output_type": "display_data"
        }
      ],
      "source": [
        "from matplotlib import pyplot as pt\n",
        "n=16\n",
        "omegas = np.zeros(n-1,dtype=complex)\n",
        "expomegas = np.zeros(4,dtype=complex)\n",
        "\n",
        "for i in np.arange(0,n-1):\n",
        "    omegas[i] = omega(i+2)\n",
        "    if 2**i <= n/2:\n",
        "        expomegas[i] = omega(2**(i+1))\n",
        "\n",
        "print(omegas)\n",
        "pt.scatter(np.real(omegas),-np.imag(omegas),color='b')\n",
        "pt.scatter(np.real(expomegas),-np.imag(expomegas),color='r')\n",
        "\n",
        "circle= pt.Circle((0,0), radius= 1,fill=False)\n",
        "\n",
        "ax=pt.gca()\n",
        "ax.add_patch(circle)\n",
        "pt.axis('scaled')\n",
        "pt.show()"
      ]
    },
    {
      "cell_type": "markdown",
      "metadata": {},
      "source": [
        "The **discrete Fourier transform** is defined by a matrix-vector product with a **DFT matrix** $\\boldsymbol D \\in \\mathbb{R}^{n\\times n}$ with $d_{jk}={\\omega_{(n)}}^{jk}$."
      ]
    },
    {
      "cell_type": "code",
      "execution_count": 27,
      "metadata": {},
      "outputs": [
        {
          "data": {
            "text/plain": [
              "array([[ 1.+0.j,  1.+0.j,  1.+0.j,  1.+0.j],\n",
              "       [ 1.+0.j,  0.-1.j, -1.+0.j,  0.+1.j],\n",
              "       [ 1.+0.j, -1.+0.j,  1.+0.j, -1.+0.j],\n",
              "       [ 1.+0.j,  0.+1.j, -1.+0.j,  0.-1.j]])"
            ]
          },
          "execution_count": 27,
          "metadata": {},
          "output_type": "execute_result"
        }
      ],
      "source": [
        "def DFT(n):\n",
        "    v = np.linspace(0,n-1,n) # v=[0,1,...,n-1]\n",
        "    return omega(n)**np.outer(v,v)\n",
        "\n",
        "np.asarray(np.real(DFT(4)),dtype=int)+1j*np.asarray(np.imag(DFT(4)),dtype=int)"
      ]
    },
    {
      "cell_type": "markdown",
      "metadata": {},
      "source": [
        "The DFT matrix is symmetric (but not Hermitian) and with appropriate scaling, unitary i.e.  $n\\boldsymbol D^{-1} = \\boldsymbol D^{H}$."
      ]
    },
    {
      "cell_type": "code",
      "execution_count": 28,
      "metadata": {},
      "outputs": [
        {
          "data": {
            "text/plain": [
              "2.2721682842512306e-12"
            ]
          },
          "execution_count": 28,
          "metadata": {},
          "output_type": "execute_result"
        }
      ],
      "source": [
        "import numpy.linalg as la\n",
        "n=27\n",
        "la.norm(n*np.eye(n) - DFT(n) @ DFT(n).conj())"
      ]
    },
    {
      "cell_type": "markdown",
      "metadata": {},
      "source": [
        "<h2>FFT Algorithm</h2>\n",
        "\n",
        "The **fast Fourier transform** exploits the special structure of the DFT matrix, computing the disrete Fourier transform of $\\boldsymbol v$, given by $\\boldsymbol u = \\boldsymbol D \\boldsymbol v$, in $O(n\\log n)$ operations."
      ]
    },
    {
      "cell_type": "code",
      "execution_count": 5,
      "metadata": {},
      "outputs": [
        {
          "data": {
            "text/plain": [
              "3.8305731252303524e-14"
            ]
          },
          "execution_count": 5,
          "metadata": {},
          "output_type": "execute_result"
        }
      ],
      "source": [
        "def fft(v):\n",
        "    n = v.size\n",
        "    if n is 1:\n",
        "        return v\n",
        "    u = fft(v[::2]) # compute FFT of [v_0,v_2,...v_{n-1}]\n",
        "    w = fft(v[1::2]) # compute FFT of [v_1,v_3,...v_n]\n",
        "\n",
        "    # scale w by twiddle factors [omega_(n)^0,...omega_(n)^(n/2-1)]\n",
        "    t = np.asarray([omega(n)**i for i in range(n//2)]) \n",
        "    z = w*t\n",
        "\n",
        "    return np.concatenate([u+z,u-z])\n",
        "\n",
        "n = 16\n",
        "v = np.random.random(n)+1.j*np.random.random(n)\n",
        "la.norm(fft(v)-DFT(n)@v)"
      ]
    },
    {
      "cell_type": "markdown",
      "metadata": {},
      "source": [
        "Two recursive calls on vectors of half the size are made, and $O(n)$ additions/products are done to apply the twiddle factors and add $z$ to $u$, for a cost of\n",
        "$$T(n)=2T(n/2)+O(n)=O(n \\log n).$$"
      ]
    },
    {
      "cell_type": "markdown",
      "metadata": {
        "collapsed": true
      },
      "source": [
        "<h2>Application to the 1D Poisson Equation</h2>\n",
        "\n",
        "The solutions to the 1D Poisson equation are waves that correspond to Fourier modes, and the Fourier transform provides solutions to it directly when applied to the continuous equation or in the discretized form. From the linear algebra perspective, the DFT matrix is related to the eigenvectors of the tridiagonal differencing matrix (also linear stiffness matrix) $\\boldsymbol T$."
      ]
    },
    {
      "cell_type": "code",
      "execution_count": 6,
      "metadata": {},
      "outputs": [
        {
          "data": {
            "text/plain": [
              "array([[ 2., -1.,  0.,  0.,  0.,  0.,  0.],\n",
              "       [-1.,  2., -1.,  0.,  0.,  0.,  0.],\n",
              "       [ 0., -1.,  2., -1.,  0.,  0.,  0.],\n",
              "       [ 0.,  0., -1.,  2., -1.,  0.,  0.],\n",
              "       [ 0.,  0.,  0., -1.,  2., -1.,  0.],\n",
              "       [ 0.,  0.,  0.,  0., -1.,  2., -1.],\n",
              "       [ 0.,  0.,  0.,  0.,  0., -1.,  2.]])"
            ]
          },
          "execution_count": 6,
          "metadata": {},
          "output_type": "execute_result"
        }
      ],
      "source": [
        "n=7\n",
        "T = 2*np.eye(n)-np.diag(np.ones(n-1),1)-np.diag(np.ones(n-1),-1)\n",
        "T"
      ]
    },
    {
      "cell_type": "markdown",
      "metadata": {},
      "source": [
        "The eigenvectors of $\\boldsymbol T$ are $\\boldsymbol X$ with eigenvalues $\\boldsymbol d$ where\n",
        "$$x_{jk} = \\sqrt{\\frac{2}{n+1}}\\sin(jk\\pi/(n+1)), \\quad d_{k} = 2(1-\\cos(\\pi k/(n+1)).$$\n",
        "The eigenvector matrix $\\boldsymbol X$ is the imaginary part of a submatrix of the $2(n+1)$-dimensional DFT matrix. "
      ]
    },
    {
      "cell_type": "code",
      "execution_count": 7,
      "metadata": {},
      "outputs": [
        {
          "data": {
            "text/plain": [
              "2.4218421576539674e-15"
            ]
          },
          "execution_count": 7,
          "metadata": {},
          "output_type": "execute_result"
        }
      ],
      "source": [
        "X = - np.sqrt(2/(n+1.)) * np.imag(DFT(2*(n+1))[1:n+1,1:n+1])\n",
        "d = 2.*(1.-np.cos(np.pi*np.arange(1,n+1)/(n+1)))\n",
        "\n",
        "#check that we indeed have the eigenvalue decomposition of T\n",
        "la.norm(T@X-X@np.diag(d))"
      ]
    },
    {
      "cell_type": "markdown",
      "metadata": {},
      "source": [
        "Thus we can apply $\\boldsymbol X$, which is called the **discrete sine transform** via FFT."
      ]
    },
    {
      "cell_type": "code",
      "execution_count": 8,
      "metadata": {},
      "outputs": [
        {
          "data": {
            "text/plain": [
              "1.0024720669331688e-15"
            ]
          },
          "execution_count": 8,
          "metadata": {},
          "output_type": "execute_result"
        }
      ],
      "source": [
        "def fast_DST(v):\n",
        "    # setup a padded vector [0,v,0,...,0] of dimensions 2(n+1)\n",
        "    w = np.concatenate([np.asarray([0.j]),v,0.j*np.zeros(v.size+1)])\n",
        "\n",
        "    u = fft(w) # compute FFT of padded vector\n",
        "    z = u-u.conj() # extract only imaginary part\n",
        "\n",
        "    # return rescaled subvector\n",
        "    return (-1.j*np.sqrt(1./(2.*(v.size+1.))))*z[1:1+v.size]\n",
        "\n",
        "n = 7 # so that DFT dimension is 2(n+1)=16\n",
        "X = - np.sqrt(2./(n+1.))*np.sin(np.pi*np.outer(np.arange(1,n+1),np.arange(1,n+1))/(n+1.))\n",
        "\n",
        "v = np.random.random(n)\n",
        "\n",
        "la.norm( X @ v - fast_DST(v))"
      ]
    },
    {
      "cell_type": "markdown",
      "metadata": {
        "collapsed": true
      },
      "source": [
        "Now, to solve the linear system $$\\boldsymbol T \\boldsymbol x = \\boldsymbol b$$ it suffices to compute $$\\boldsymbol x = \\boldsymbol X \\text{diag}(\\boldsymbol d)^{-1} \\boldsymbol X^{-1} \\boldsymbol b,$$\n",
        "and since the sine transform is orthogonal, we simply have $$\\boldsymbol x = \\boldsymbol X \\text{diag}(\\boldsymbol d)^{-1} \\boldsymbol X^{T} \\boldsymbol b.$$"
      ]
    },
    {
      "cell_type": "code",
      "execution_count": 9,
      "metadata": {},
      "outputs": [
        {
          "data": {
            "text/plain": [
              "3.820199830714189e-15"
            ]
          },
          "execution_count": 9,
          "metadata": {},
          "output_type": "execute_result"
        }
      ],
      "source": [
        "n = 7\n",
        "b = np.random.random(n)\n",
        "T = 2*np.eye(n)-np.diag(np.ones(n-1),1)-np.diag(np.ones(n-1),-1)\n",
        "x = la.solve(T,b)\n",
        "\n",
        "d = 2.*(1.-np.cos(np.pi*np.arange(1,n+1)/(n+1)))\n",
        "X = - np.sqrt(2./(n+1.))*np.sin(np.pi*np.outer(np.arange(1,n+1),np.arange(1,n+1))/(n+1.))\n",
        "\n",
        "la.norm(x - fast_DST(np.diag(1./d) @ X.T @ b))"
      ]
    },
    {
      "cell_type": "markdown",
      "metadata": {},
      "source": [
        "<h2>Application to the 2D Poisson Equation</h2>\n",
        "\n",
        "Lets now consider the discretized 2D Poisson PDE, where the linear system takes on a Kronecker-product form."
      ]
    },
    {
      "cell_type": "code",
      "execution_count": 11,
      "metadata": {},
      "outputs": [
        {
          "data": {
            "text/plain": [
              "<matplotlib.image.AxesImage at 0x7f053eda1518>"
            ]
          },
          "execution_count": 11,
          "metadata": {},
          "output_type": "execute_result"
        },
        {
          "data": {
            "image/png": "[encoded data removed]",
            "text/plain": [
              "<matplotlib.figure.Figure at 0x7f053eda17f0>"
            ]
          },
          "metadata": {},
          "output_type": "display_data"
        }
      ],
      "source": [
        "n=7\n",
        "T = 2*np.eye(n)-np.diag(np.ones(n-1),1)-np.diag(np.ones(n-1),-1)\n",
        "A = np.kron(np.eye(n),T)+np.kron(T,np.eye(n))\n",
        "pt.spy(A)"
      ]
    },
    {
      "cell_type": "markdown",
      "metadata": {},
      "source": [
        "The 1D finite differencing matrix $\\boldsymbol T$, gives us the following equations for the unknowns $\\boldsymbol U\\in\\mathbb{R}^{m\\times m}$ for an $m\\times m$ spatial mesh,\n",
        "$$\\boldsymbol T \\boldsymbol U + \\boldsymbol U \\boldsymbol T= \\boldsymbol F,$$\n",
        "where we've absorbed the discretization width $h$ into $\\boldsymbol F$."
      ]
    },
    {
      "cell_type": "code",
      "execution_count": 20,
      "metadata": {},
      "outputs": [
        {
          "data": {
            "text/plain": [
              "5.9061360594505111e-15"
            ]
          },
          "execution_count": 20,
          "metadata": {},
          "output_type": "execute_result"
        }
      ],
      "source": [
        "F = np.random.random((n,n))\n",
        "U = la.solve(A,F.reshape(n*n)).reshape((n,n))\n",
        "la.norm(T@U+U@T-F)"
      ]
    },
    {
      "cell_type": "markdown",
      "metadata": {},
      "source": [
        "Using the eigenvalue decomposition of $\\boldsymbol T=\\boldsymbol X \\text{diag}(\\boldsymbol d) \\boldsymbol X^{-1}$, which we know analytically, we can write the frequency space form of the linear system as\n",
        "$$\\text{diag}(\\boldsymbol d) \\boldsymbol X^{-1} \\boldsymbol U \\boldsymbol X + \\boldsymbol X^{-1} \\boldsymbol U \\boldsymbol X\\text{diag}(\\boldsymbol d)  =  \\boldsymbol X^{-1} \\boldsymbol F \\boldsymbol X,$$\n",
        "so we compute the 2D sine transform of $\\boldsymbol F$ and solve a diagonal linear system for $\\boldsymbol V=\\boldsymbol X^{-1} \\boldsymbol U \\boldsymbol X$, which is the 2D sine transform of the solution."
      ]
    },
    {
      "cell_type": "code",
      "execution_count": 24,
      "metadata": {},
      "outputs": [
        {
          "data": {
            "text/plain": [
              "7.115828086306871e-15"
            ]
          },
          "execution_count": 24,
          "metadata": {},
          "output_type": "execute_result"
        }
      ],
      "source": [
        "X = - np.sqrt(2/(n+1.)) * np.imag(DFT(2*(n+1))[1:n+1,1:n+1])\n",
        "d = 2.*(1.-np.cos(np.pi*np.arange(1,n+1)/(n+1)))\n",
        "\n",
        "# transform F\n",
        "sF = X.T @ F @ X\n",
        "\n",
        "# perform pointwise product to solve for U\n",
        "sU = sF / np.add.outer(d,d)\n",
        "\n",
        "# backtransform U and compare to naive method\n",
        "la.norm(U - X @ sU @ X.T)"
      ]
    }
  ],
  "metadata": {
    "kernelspec": {
      "display_name": "Python 3",
      "language": "python",
      "name": "python3"
    },
    "language_info": {
      "codemirror_mode": {
        "name": "ipython",
        "version": 3
      },
      "file_extension": ".py",
      "mimetype": "text/x-python",
      "name": "python",
      "nbconvert_exporter": "python",
      "pygments_lexer": "ipython3",
      "version": "3.5.2"
    }
  },
  "nbformat": 4,
  "nbformat_minor": 2
}